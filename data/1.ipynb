{
 "cells": [
  {
   "cell_type": "code",
   "execution_count": 82,
   "id": "13931611",
   "metadata": {},
   "outputs": [],
   "source": [
    "fp = open(\"pos.txt\", \"r\")\n",
    "fn = open(\"neg.txt\", \"r\")\n",
    "ft = open(\"pos_tag.txt\", \"r\")"
   ]
  },
  {
   "cell_type": "code",
   "execution_count": 83,
   "id": "70aca946",
   "metadata": {},
   "outputs": [],
   "source": [
    "p = fp.read().splitlines()\n",
    "n = fn.read().splitlines()\n",
    "t = ft.read().splitlines()"
   ]
  },
  {
   "cell_type": "code",
   "execution_count": 84,
   "id": "b566c767",
   "metadata": {},
   "outputs": [
    {
     "data": {
      "text/plain": [
       "11073"
      ]
     },
     "execution_count": 84,
     "metadata": {},
     "output_type": "execute_result"
    }
   ],
   "source": [
    "len(p)"
   ]
  },
  {
   "cell_type": "code",
   "execution_count": 85,
   "id": "8ef74527",
   "metadata": {},
   "outputs": [
    {
     "data": {
      "text/plain": [
       "11073"
      ]
     },
     "execution_count": 85,
     "metadata": {},
     "output_type": "execute_result"
    }
   ],
   "source": [
    "len(p)"
   ]
  },
  {
   "cell_type": "code",
   "execution_count": 86,
   "id": "b56170e7",
   "metadata": {},
   "outputs": [
    {
     "data": {
      "text/plain": [
       "20208"
      ]
     },
     "execution_count": 86,
     "metadata": {},
     "output_type": "execute_result"
    }
   ],
   "source": [
    "len(n)"
   ]
  },
  {
   "cell_type": "code",
   "execution_count": 87,
   "id": "bbc6bc46",
   "metadata": {},
   "outputs": [
    {
     "data": {
      "text/plain": [
       "11073"
      ]
     },
     "execution_count": 87,
     "metadata": {},
     "output_type": "execute_result"
    }
   ],
   "source": [
    "len(t)"
   ]
  },
  {
   "cell_type": "code",
   "execution_count": 11,
   "id": "0d4cac7f",
   "metadata": {},
   "outputs": [],
   "source": [
    "ne1_A = open(\"d1_A_neg.txt\",\"w\")\n",
    "ne1_B = open(\"d1_B_neg.txt\",\"w\")\n",
    "ne1_C = open(\"d1_C_neg.txt\",\"w\")\n",
    "ne2_A = open(\"d2_A_neg.txt\",\"w\")\n",
    "ne2_B = open(\"d2_B_neg.txt\",\"w\")\n",
    "ne2_C = open(\"d2_C_neg.txt\",\"w\")\n",
    "ne3_A = open(\"d3_A_neg.txt\",\"w\")\n",
    "ne3_B = open(\"d3_B_neg.txt\",\"w\")\n",
    "ne3_C = open(\"d3_C_neg.txt\",\"w\")"
   ]
  },
  {
   "cell_type": "code",
   "execution_count": 114,
   "id": "1a698f91",
   "metadata": {},
   "outputs": [],
   "source": [
    "pos1_A = open(\"d1_A_pos.txt\",\"w\")\n",
    "pos1_B = open(\"d1_B_pos.txt\",\"w\")\n",
    "pos1_C = open(\"d1_C_pos.txt\",\"w\")\n",
    "pos2_A = open(\"d2_A_pos.txt\",\"w\")\n",
    "pos2_B = open(\"d2_B_pos.txt\",\"w\")\n",
    "pos2_C = open(\"d2_C_pos.txt\",\"w\")\n",
    "pos3_A = open(\"d3_A_pos.txt\",\"w\")\n",
    "pos3_B = open(\"d3_B_pos.txt\",\"w\")\n",
    "pos3_C = open(\"d3_C_pos.txt\",\"w\")\n",
    "tag1_A = open(\"d1_A_tags.txt\",\"w\")\n",
    "tag1_B = open(\"d1_B_tags.txt\",\"w\")\n",
    "tag1_C = open(\"d1_C_tags.txt\",\"w\")\n",
    "tag2_A = open(\"d2_A_tags.txt\",\"w\")\n",
    "tag2_B = open(\"d2_B_tags.txt\",\"w\")\n",
    "tag2_C = open(\"d2_C_tags.txt\",\"w\")\n",
    "tag3_A = open(\"d3_A_tags.txt\",\"w\")\n",
    "tag3_B = open(\"d3_B_tags.txt\",\"w\")\n",
    "tag3_C = open(\"d3_C_tags.txt\",\"w\")"
   ]
  },
  {
   "cell_type": "code",
   "execution_count": null,
   "id": "ff0e8ff7",
   "metadata": {},
   "outputs": [],
   "source": []
  },
  {
   "cell_type": "code",
   "execution_count": 10,
   "id": "b8b8215f",
   "metadata": {},
   "outputs": [],
   "source": [
    "ne_train = []\n",
    "ne_val = []\n",
    "ne_test = []\n",
    "pos_train = []\n",
    "pos_val = []\n",
    "pos_test = []\n",
    "tag_train = []\n",
    "tag_val = []\n",
    "tag_test = []"
   ]
  },
  {
   "cell_type": "code",
   "execution_count": 14,
   "id": "7f9f3ebc",
   "metadata": {},
   "outputs": [],
   "source": [
    "from sklearn.model_selection import train_test_split"
   ]
  },
  {
   "cell_type": "code",
   "execution_count": 88,
   "id": "df06bc7b",
   "metadata": {},
   "outputs": [],
   "source": [
    "pos_train, pos_test, tag_train, tag_test = train_test_split(p, t, test_size=0.2, random_state=1)"
   ]
  },
  {
   "cell_type": "code",
   "execution_count": 89,
   "id": "397711b0",
   "metadata": {},
   "outputs": [],
   "source": [
    "pos_train, pos_val, tag_train, tag_val = train_test_split(pos_train, tag_train, test_size=0.25, random_state=1)"
   ]
  },
  {
   "cell_type": "code",
   "execution_count": 90,
   "id": "c2b5618b",
   "metadata": {},
   "outputs": [
    {
     "data": {
      "text/plain": [
       "6643"
      ]
     },
     "execution_count": 90,
     "metadata": {},
     "output_type": "execute_result"
    }
   ],
   "source": [
    "len(tag_train)"
   ]
  },
  {
   "cell_type": "code",
   "execution_count": 91,
   "id": "54908408",
   "metadata": {},
   "outputs": [
    {
     "data": {
      "text/plain": [
       "2215"
      ]
     },
     "execution_count": 91,
     "metadata": {},
     "output_type": "execute_result"
    }
   ],
   "source": [
    "len(tag_val)"
   ]
  },
  {
   "cell_type": "code",
   "execution_count": 21,
   "id": "bf9defc2",
   "metadata": {},
   "outputs": [
    {
     "data": {
      "text/plain": [
       "2215"
      ]
     },
     "execution_count": 21,
     "metadata": {},
     "output_type": "execute_result"
    }
   ],
   "source": [
    "len(tag_test)"
   ]
  },
  {
   "cell_type": "code",
   "execution_count": 92,
   "id": "18415fce",
   "metadata": {},
   "outputs": [
    {
     "data": {
      "text/plain": [
       "6643"
      ]
     },
     "execution_count": 92,
     "metadata": {},
     "output_type": "execute_result"
    }
   ],
   "source": [
    "len(pos_train)"
   ]
  },
  {
   "cell_type": "code",
   "execution_count": 93,
   "id": "8991cdf0",
   "metadata": {},
   "outputs": [
    {
     "data": {
      "text/plain": [
       "2215"
      ]
     },
     "execution_count": 93,
     "metadata": {},
     "output_type": "execute_result"
    }
   ],
   "source": [
    "len(pos_val)"
   ]
  },
  {
   "cell_type": "code",
   "execution_count": 94,
   "id": "16590ace",
   "metadata": {},
   "outputs": [
    {
     "data": {
      "text/plain": [
       "2215"
      ]
     },
     "execution_count": 94,
     "metadata": {},
     "output_type": "execute_result"
    }
   ],
   "source": [
    "len(pos_test)"
   ]
  },
  {
   "cell_type": "code",
   "execution_count": 128,
   "id": "8d2c25d3",
   "metadata": {},
   "outputs": [],
   "source": [
    "d1_pos_test, d23_pos_test, d1_tag_test, d23_tag_test = train_test_split(pos_test, tag_test, test_size=2/3, random_state=1)\n",
    "d2_pos_test, d3_pos_test, d2_tag_test, d3_tag_test = train_test_split(d23_pos_test, d23_tag_test, test_size=0.5, random_state=1)"
   ]
  },
  {
   "cell_type": "code",
   "execution_count": 129,
   "id": "a09775d4",
   "metadata": {},
   "outputs": [
    {
     "data": {
      "text/plain": [
       "738"
      ]
     },
     "execution_count": 129,
     "metadata": {},
     "output_type": "execute_result"
    }
   ],
   "source": [
    "len(d1_pos_test)"
   ]
  },
  {
   "cell_type": "code",
   "execution_count": 134,
   "id": "7904303e",
   "metadata": {},
   "outputs": [],
   "source": [
    "a = \"\\n\".join(d3_pos_test)\n",
    "b = \"\\n\".join(d3_tag_test)"
   ]
  },
  {
   "cell_type": "code",
   "execution_count": 135,
   "id": "73f23877",
   "metadata": {},
   "outputs": [
    {
     "data": {
      "text/plain": [
       "29209"
      ]
     },
     "execution_count": 135,
     "metadata": {},
     "output_type": "execute_result"
    }
   ],
   "source": [
    "pos3_C.write(a)\n",
    "tag3_C.write(b)"
   ]
  },
  {
   "cell_type": "code",
   "execution_count": null,
   "id": "5495562b",
   "metadata": {},
   "outputs": [],
   "source": []
  }
 ],
 "metadata": {
  "kernelspec": {
   "display_name": "Python 3",
   "language": "python",
   "name": "python3"
  },
  "language_info": {
   "codemirror_mode": {
    "name": "ipython",
    "version": 3
   },
   "file_extension": ".py",
   "mimetype": "text/x-python",
   "name": "python",
   "nbconvert_exporter": "python",
   "pygments_lexer": "ipython3",
   "version": "3.7.4"
  }
 },
 "nbformat": 4,
 "nbformat_minor": 5
}
