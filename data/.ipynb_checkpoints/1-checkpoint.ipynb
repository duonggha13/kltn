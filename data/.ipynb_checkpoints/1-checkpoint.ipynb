{
 "cells": [
  {
   "cell_type": "code",
   "execution_count": 13,
   "id": "90020dac",
   "metadata": {},
   "outputs": [],
   "source": [
    "fp = open(\"pos.txt\", \"r\")\n",
    "fn = open(\"neg.txt\", \"r\")\n",
    "ft = open(\"pos_tag.txt\", \"r\")"
   ]
  },
  {
   "cell_type": "code",
   "execution_count": 14,
   "id": "c070639b",
   "metadata": {},
   "outputs": [],
   "source": [
    "p = fp.read().splitlines()\n",
    "n = fn.read().splitlines()"
   ]
  },
  {
   "cell_type": "code",
   "execution_count": 17,
   "id": "0506777d",
   "metadata": {},
   "outputs": [
    {
     "data": {
      "text/plain": [
       "11073"
      ]
     },
     "execution_count": 17,
     "metadata": {},
     "output_type": "execute_result"
    }
   ],
   "source": [
    "len(p)"
   ]
  },
  {
   "cell_type": "code",
   "execution_count": 5,
   "id": "a410727f",
   "metadata": {},
   "outputs": [
    {
     "data": {
      "text/plain": [
       "20208"
      ]
     },
     "execution_count": 5,
     "metadata": {},
     "output_type": "execute_result"
    }
   ],
   "source": [
    "len(n)"
   ]
  },
  {
   "cell_type": "code",
   "execution_count": 6,
   "id": "3b96e2d7",
   "metadata": {},
   "outputs": [],
   "source": [
    "p_train = open(\"pos_train.txt\", \"w\")\n",
    "p_test = open(\"pos_test.txt\", \"w\")\n",
    "n_train = open(\"neg_train.txt\", \"w\")\n",
    "n_test = open(\"neg_test.txt\", \"w\")"
   ]
  },
  {
   "cell_type": "code",
   "execution_count": 18,
   "id": "f2270b8c",
   "metadata": {},
   "outputs": [],
   "source": [
    "for i in range(len(p)):\n",
    "    if i < len(p)*0.75:\n",
    "        p_train.write(p[i] + \"\\n\")\n",
    "    else:\n",
    "        p_test.write(p[i] + \"\\n\")\n",
    "p_train.close()\n",
    "p_test.close()"
   ]
  },
  {
   "cell_type": "code",
   "execution_count": null,
   "id": "226b266b",
   "metadata": {},
   "outputs": [],
   "source": []
  }
 ],
 "metadata": {
  "kernelspec": {
   "display_name": "Python 3",
   "language": "python",
   "name": "python3"
  },
  "language_info": {
   "codemirror_mode": {
    "name": "ipython",
    "version": 3
   },
   "file_extension": ".py",
   "mimetype": "text/x-python",
   "name": "python",
   "nbconvert_exporter": "python",
   "pygments_lexer": "ipython3",
   "version": "3.7.4"
  }
 },
 "nbformat": 4,
 "nbformat_minor": 5
}
